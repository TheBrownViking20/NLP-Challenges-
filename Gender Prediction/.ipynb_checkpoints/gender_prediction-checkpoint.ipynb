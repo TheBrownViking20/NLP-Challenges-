{
 "cells": [
  {
   "cell_type": "code",
   "execution_count": 1,
   "metadata": {
    "collapsed": true
   },
   "outputs": [],
   "source": [
    "corpus = open('corpus.txt', 'r', encoding='utf-8-sig').read()"
   ]
  },
  {
   "cell_type": "code",
   "execution_count": 2,
   "metadata": {
    "collapsed": true
   },
   "outputs": [],
   "source": [
    "import re"
   ]
  },
  {
   "cell_type": "code",
   "execution_count": 3,
   "metadata": {
    "collapsed": true
   },
   "outputs": [],
   "source": [
    "begin_title = '\\n{3,}\\s+THE SECRET CACHE\\n{3,}.*'\n",
    "corpus = re.search(begin_title, corpus, flags=re.M+re.S).group()\n",
    "corpus = corpus.replace('\\n', ' ') \n",
    "corpus = re.sub(r' {2,}', ' ', corpus)"
   ]
  },
  {
   "cell_type": "code",
   "execution_count": 4,
   "metadata": {
    "collapsed": true
   },
   "outputs": [],
   "source": [
    "feminine=['impure','forest','abducted','marries','purity','listen','earth','furrow','goddess','sister-in-law','queen','woman','female','women','baroness','dedication,', 'self-sacrifice', 'wifely', 'womanly', 'virtues','miss','daughter','she','her','herself','lady','madam','milady','sister','mother','parents','mom','girl','hun','bride','child','children',\n",
    "          'adolescent','couple','marriage','clothes','chastity','pregnant','gives','birth','wonb','born','wearing','sweets','dear','little','mrs','ms']\n",
    "\n",
    "masculine=['washerman,', 'berating', 'wayward', 'kill','buried','ruin','settle','exile',\n",
    "           'broke','explosion','gunpowder',\n",
    "           'cruelty','stabbed','englishman','earl','worthy','horseback','soldiers','guard','orders','tortuous',\n",
    "           'betraying','marquis','he','his','him','male','sir','monsieur','captain','brother','boy','han','man',\n",
    "           'courage','battle','hardships','poet','challenge','revenge','handsome','one','united','avatar','god','science','wives',\n",
    "           'refuge', 'unjust', 'world','sons','sages','son','king','crowned','people','refuge',\n",
    "           'arms','slander','rule','protection','hermits','shelter',\n",
    "           'religious','figures','mr','mister']"
   ]
  },
  {
   "cell_type": "code",
   "execution_count": 5,
   "metadata": {},
   "outputs": [
    {
     "name": "stdout",
     "output_type": "stream",
     "text": [
      "3\n"
     ]
    }
   ],
   "source": [
    "n = int(input())"
   ]
  },
  {
   "cell_type": "code",
   "execution_count": 6,
   "metadata": {},
   "outputs": [
    {
     "name": "stdout",
     "output_type": "stream",
     "text": [
      "John\n",
      "Sherlock\n",
      "Mary\n"
     ]
    }
   ],
   "source": [
    "names = [input() for i in range(n)]"
   ]
  },
  {
   "cell_type": "code",
   "execution_count": 7,
   "metadata": {},
   "outputs": [],
   "source": [
    "corpus = corpus.lower()"
   ]
  },
  {
   "cell_type": "code",
   "execution_count": 8,
   "metadata": {},
   "outputs": [],
   "source": [
    "def guess_gender(name):\n",
    "    name = name.lower()\n",
    "    mc = 0\n",
    "    fc = 0\n",
    "    index = 0\n",
    "    while(index!=-1):\n",
    "        index = corpus.find(name,index,len(corpus))\n",
    "        search_space = corpus[index-80:index] + corpus[index+len(name):index+80]\n",
    "        search_space = search_space.split(\" \")\n",
    "        for word in search_space:\n",
    "            if word in masculine:\n",
    "                mc = mc + 1\n",
    "            elif word in feminine:\n",
    "                fc = fc + 1\n",
    "        if mc <= fc:\n",
    "            return 'Female'\n",
    "        else:\n",
    "            return 'Male'"
   ]
  },
  {
   "cell_type": "code",
   "execution_count": 9,
   "metadata": {},
   "outputs": [
    {
     "name": "stdout",
     "output_type": "stream",
     "text": [
      "Male\n",
      "Male\n",
      "Female\n"
     ]
    }
   ],
   "source": [
    "for name in names:\n",
    "    print(guess_gender(name))"
   ]
  },
  {
   "cell_type": "code",
   "execution_count": null,
   "metadata": {
    "collapsed": true
   },
   "outputs": [],
   "source": []
  }
 ],
 "metadata": {
  "kernelspec": {
   "display_name": "Python 3",
   "language": "python",
   "name": "python3"
  },
  "language_info": {
   "codemirror_mode": {
    "name": "ipython",
    "version": 3
   },
   "file_extension": ".py",
   "mimetype": "text/x-python",
   "name": "python",
   "nbconvert_exporter": "python",
   "pygments_lexer": "ipython3",
   "version": "3.6.6"
  }
 },
 "nbformat": 4,
 "nbformat_minor": 2
}
