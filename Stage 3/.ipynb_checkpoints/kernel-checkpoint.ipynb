{
 "cells": [
  {
   "cell_type": "markdown",
   "metadata": {
    "_uuid": "0beebd3ea1f4cbeba756ba71f76f63f3d0059b48"
   },
   "source": [
    "# The following notebook is my solution for the 3rd stage problem for Mesh Education Private Limited internship.\n",
    "\n",
    "## Tagging System of Questions using Transfer Learning\n",
    "\n",
    "### Problem Statement\n",
    "In this challenge, we provide the titles, text, and tags of Stack Exchange questions from six different\n",
    "sites. We then ask for tag predictions on unseen physics questions. Solving this problem via a\n",
    "standard machine learning approach might involve training an algorithm on a corpus of related text.\n",
    "Here, you are challenged to train on material from outside the field. Can an algorithm predict\n",
    "appropriate physics tags after learning from biology, chemistry or mathematics data? Let's find out!"
   ]
  },
  {
   "cell_type": "code",
   "execution_count": 1,
   "metadata": {
    "_cell_guid": "b1076dfc-b9ad-4769-8c92-a6c4dae69d19",
    "_uuid": "8f2839f25d086af736a60e9eeb907d3b93b6e0e5",
    "collapsed": true
   },
   "outputs": [],
   "source": [
    "# Usual imports\n",
    "import numpy as np\n",
    "import pandas as pd\n",
    "import matplotlib.pyplot as plt\n",
    "\n",
    "# spaCy based imports\n",
    "import spacy\n",
    "from spacy.lang.en.stop_words import STOP_WORDS\n",
    "from spacy.lang.en import English\n",
    "\n",
    "import warnings\n",
    "warnings.filterwarnings(\"ignore\")\n",
    "import re\n",
    "import string\n",
    "import operator\n",
    "import random\n",
    "from tqdm import tqdm\n",
    "tqdm.pandas()"
   ]
  },
  {
   "cell_type": "code",
   "execution_count": 4,
   "metadata": {
    "_cell_guid": "79c7e3d0-c299-4dcb-8224-4455121ee9b0",
    "_uuid": "d629ff2d2480ee46fbb7e2d37f6b5fab8052498a"
   },
   "outputs": [],
   "source": [
    "# Reading training data\n",
    "train_list = ['travel.csv', 'biology.csv', 'robotics.csv', 'cooking.csv', 'crypto.csv', 'diy.csv']\n",
    "\n",
    "list_ = []\n",
    "\n",
    "for file_ in train_list:\n",
    "    df = pd.read_csv(file_,index_col=None, header=0)\n",
    "    list_.append(df)\n",
    "\n",
    "frame = pd.concat(list_, axis = 0, ignore_index = True) "
   ]
  },
  {
   "cell_type": "code",
   "execution_count": 5,
   "metadata": {
    "_uuid": "84ede4ab11be835428c1d331ffd322679f8b70a1"
   },
   "outputs": [
    {
     "data": {
      "text/html": [
       "<div>\n",
       "<style>\n",
       "    .dataframe thead tr:only-child th {\n",
       "        text-align: right;\n",
       "    }\n",
       "\n",
       "    .dataframe thead th {\n",
       "        text-align: left;\n",
       "    }\n",
       "\n",
       "    .dataframe tbody tr th {\n",
       "        vertical-align: top;\n",
       "    }\n",
       "</style>\n",
       "<table border=\"1\" class=\"dataframe\">\n",
       "  <thead>\n",
       "    <tr style=\"text-align: right;\">\n",
       "      <th></th>\n",
       "      <th>title</th>\n",
       "      <th>content</th>\n",
       "      <th>tags</th>\n",
       "    </tr>\n",
       "  </thead>\n",
       "  <tbody>\n",
       "    <tr>\n",
       "      <th>0</th>\n",
       "      <td>What are some Caribbean cruises for October?</td>\n",
       "      <td>&lt;p&gt;My fiancée and I are looking for a good Car...</td>\n",
       "      <td>caribbean cruising vacations</td>\n",
       "    </tr>\n",
       "    <tr>\n",
       "      <th>1</th>\n",
       "      <td>How can I find a guide that will take me safel...</td>\n",
       "      <td>&lt;p&gt;This was one of our definition questions, b...</td>\n",
       "      <td>guides extreme-tourism amazon-river amazon-jungle</td>\n",
       "    </tr>\n",
       "    <tr>\n",
       "      <th>2</th>\n",
       "      <td>Does Singapore Airlines offer any reward seats...</td>\n",
       "      <td>&lt;p&gt;Singapore Airlines has an all-business clas...</td>\n",
       "      <td>loyalty-programs routes ewr singapore-airlines...</td>\n",
       "    </tr>\n",
       "    <tr>\n",
       "      <th>3</th>\n",
       "      <td>What is the easiest transportation to use thro...</td>\n",
       "      <td>&lt;p&gt;Another definition question that interested...</td>\n",
       "      <td>romania transportation</td>\n",
       "    </tr>\n",
       "    <tr>\n",
       "      <th>4</th>\n",
       "      <td>How can I visit Antarctica?</td>\n",
       "      <td>&lt;p&gt;A year ago I was reading some magazine, and...</td>\n",
       "      <td>extreme-tourism antarctica</td>\n",
       "    </tr>\n",
       "  </tbody>\n",
       "</table>\n",
       "</div>"
      ],
      "text/plain": [
       "                                               title  \\\n",
       "0       What are some Caribbean cruises for October?   \n",
       "1  How can I find a guide that will take me safel...   \n",
       "2  Does Singapore Airlines offer any reward seats...   \n",
       "3  What is the easiest transportation to use thro...   \n",
       "4                        How can I visit Antarctica?   \n",
       "\n",
       "                                             content  \\\n",
       "0  <p>My fiancée and I are looking for a good Car...   \n",
       "1  <p>This was one of our definition questions, b...   \n",
       "2  <p>Singapore Airlines has an all-business clas...   \n",
       "3  <p>Another definition question that interested...   \n",
       "4  <p>A year ago I was reading some magazine, and...   \n",
       "\n",
       "                                                tags  \n",
       "0                       caribbean cruising vacations  \n",
       "1  guides extreme-tourism amazon-river amazon-jungle  \n",
       "2  loyalty-programs routes ewr singapore-airlines...  \n",
       "3                             romania transportation  \n",
       "4                         extreme-tourism antarctica  "
      ]
     },
     "execution_count": 5,
     "metadata": {},
     "output_type": "execute_result"
    }
   ],
   "source": [
    "frame.drop(['id'], inplace=True, axis=1)\n",
    "frame.head()"
   ]
  },
  {
   "cell_type": "code",
   "execution_count": 6,
   "metadata": {
    "_uuid": "b0ba09c21759968e3fefb1cc173c6aa23ca0d377",
    "collapsed": true
   },
   "outputs": [],
   "source": [
    "#Evaluation metric\n",
    "def f1_score(tp, fp, fn):\n",
    "    p = (tp*1.) / (tp+fp)\n",
    "    r = (tp*1.) / (tp+fn)\n",
    "    f1 = (2*p*r)/(p+r)\n",
    "    return f1"
   ]
  },
  {
   "cell_type": "markdown",
   "metadata": {
    "_uuid": "5f4d2ca0107b0c4e5eadf06daaf35e54d814acc0"
   },
   "source": [
    "http://www2.agroparistech.fr/ufr-info/membres/cornuejols/Teaching/Master-AIC/PROJETS-M2-AIC/PROJETS-2016-2017/challenge-kaggle-transfer%20KHOUFI_MATMATI_THIERRY.pdf\n",
    "\n",
    "The above paper deduces the following information:\n",
    "* Tags can be deduced from information in the 'title' and 'content' but not with good accuracy.\n",
    "* Baseline models have the following scores:\n",
    "    * TITLE 0.08271\n",
    "    * TITLE + CONTENT 0.05719\n",
    "    * CONTENT 0.05021\n",
    "* CNN models perform in the following scores:\n",
    "    * TITLE 0.07325\n",
    "    * TITLE + CONTENT 0.05620\n",
    "    * CONTENT 0.05018\n",
    "* LDA models have the following scores:\n",
    "    * BEST 20 WORDS IN TEXT 0.03861\n",
    "    * BEST 5 WORDS IN TEXT 0.02866\n",
    "    * RANDOM FROM BEST 15 0.00862\n",
    "    * BEST 5 TAGS 0.00824\n",
    "* Transfer learning is not very helpful as accuracy doesn't go beyond 5.7% for title+content and 8.2% for title only.\n",
    "* Much better results would have been achieved if a list of tags was made available for the challenge"
   ]
  },
  {
   "cell_type": "code",
   "execution_count": 7,
   "metadata": {
    "_uuid": "77cb52448cd98c4e4fe3b45a8ebd98f8c0df29ab",
    "collapsed": true
   },
   "outputs": [],
   "source": [
    "#Cleaning Text\n",
    "def clean_html(raw_html):\n",
    "    cleanr = re.compile('<.*?>')\n",
    "    cleantext = re.sub(cleanr, '', raw_html)\n",
    "    return cleantext\n",
    "\n",
    "# SpaCy\n",
    "\n",
    "punctuations = string.punctuation\n",
    "stopwords = list(STOP_WORDS)\n",
    "\n",
    "parser = English()\n",
    "def spacy_tokenizer(sentence):\n",
    "    mytokens = parser(sentence)\n",
    "    mytokens = [ word.lemma_.lower().strip() if word.lemma_ != \"-PRON-\" else word.lower_ for word in mytokens ]\n",
    "    mytokens = [ word for word in mytokens if word not in stopwords and word not in punctuations ]\n",
    "    mytokens = \" \".join([i for i in mytokens])\n",
    "    return mytokens\n",
    "\n",
    "def find_str(s, char):\n",
    "    index = 0\n",
    "\n",
    "    if char in s:\n",
    "        c = char[0]\n",
    "        for ch in s:\n",
    "            if ch == c:\n",
    "                if s[index:index+len(char)] == char:\n",
    "                    return index\n",
    "\n",
    "            index += 1\n",
    "\n",
    "    return -1\n",
    "\n",
    "def theory_checker(phrase):\n",
    "    if \"theory\" in phrase:\n",
    "        lp = list(phrase)\n",
    "        lp[find_str(phrase,\"theory\")-1] = \"-\"\n",
    "        phrase = ''.join(lp)\n",
    "    return phrase"
   ]
  },
  {
   "cell_type": "code",
   "execution_count": 8,
   "metadata": {
    "_uuid": "c94c6f57f0fb2a76b7249462cfa21f5eff0d58de"
   },
   "outputs": [
    {
     "name": "stderr",
     "output_type": "stream",
     "text": [
      "100%|██████████| 87000/87000 [00:00<00:00, 107005.61it/s]\n",
      "100%|██████████| 87000/87000 [07:58<00:00, 181.77it/s]\n",
      "100%|██████████| 87000/87000 [00:52<00:00, 1662.05it/s]\n"
     ]
    },
    {
     "data": {
      "text/html": [
       "<div>\n",
       "<style>\n",
       "    .dataframe thead tr:only-child th {\n",
       "        text-align: right;\n",
       "    }\n",
       "\n",
       "    .dataframe thead th {\n",
       "        text-align: left;\n",
       "    }\n",
       "\n",
       "    .dataframe tbody tr th {\n",
       "        vertical-align: top;\n",
       "    }\n",
       "</style>\n",
       "<table border=\"1\" class=\"dataframe\">\n",
       "  <thead>\n",
       "    <tr style=\"text-align: right;\">\n",
       "      <th></th>\n",
       "      <th>title</th>\n",
       "      <th>content</th>\n",
       "      <th>tags</th>\n",
       "    </tr>\n",
       "  </thead>\n",
       "  <tbody>\n",
       "    <tr>\n",
       "      <th>0</th>\n",
       "      <td>caribbean cruise october</td>\n",
       "      <td>fiancée look good caribbean cruise october won...</td>\n",
       "      <td>caribbean cruising vacations</td>\n",
       "    </tr>\n",
       "    <tr>\n",
       "      <th>1</th>\n",
       "      <td>find guide safely amazon jungle</td>\n",
       "      <td>definition question interest personally find g...</td>\n",
       "      <td>guides extreme-tourism amazon-river amazon-jungle</td>\n",
       "    </tr>\n",
       "    <tr>\n",
       "      <th>2</th>\n",
       "      <td>singapore airlines offer reward seat ewr sin r...</td>\n",
       "      <td>singapore airlines business class flight ewr s...</td>\n",
       "      <td>loyalty-programs routes ewr singapore-airlines...</td>\n",
       "    </tr>\n",
       "    <tr>\n",
       "      <th>3</th>\n",
       "      <td>easy transportation use romania foreigner</td>\n",
       "      <td>definition question interest easy transportati...</td>\n",
       "      <td>romania transportation</td>\n",
       "    </tr>\n",
       "    <tr>\n",
       "      <th>4</th>\n",
       "      <td>visit antarctica</td>\n",
       "      <td>year ago read magazine find availability trip ...</td>\n",
       "      <td>extreme-tourism antarctica</td>\n",
       "    </tr>\n",
       "  </tbody>\n",
       "</table>\n",
       "</div>"
      ],
      "text/plain": [
       "                                               title  \\\n",
       "0                           caribbean cruise october   \n",
       "1                    find guide safely amazon jungle   \n",
       "2  singapore airlines offer reward seat ewr sin r...   \n",
       "3          easy transportation use romania foreigner   \n",
       "4                                   visit antarctica   \n",
       "\n",
       "                                             content  \\\n",
       "0  fiancée look good caribbean cruise october won...   \n",
       "1  definition question interest personally find g...   \n",
       "2  singapore airlines business class flight ewr s...   \n",
       "3  definition question interest easy transportati...   \n",
       "4  year ago read magazine find availability trip ...   \n",
       "\n",
       "                                                tags  \n",
       "0                       caribbean cruising vacations  \n",
       "1  guides extreme-tourism amazon-river amazon-jungle  \n",
       "2  loyalty-programs routes ewr singapore-airlines...  \n",
       "3                             romania transportation  \n",
       "4                         extreme-tourism antarctica  "
      ]
     },
     "execution_count": 8,
     "metadata": {},
     "output_type": "execute_result"
    }
   ],
   "source": [
    "# Cleaning and preprocessing training data\n",
    "train_data = frame\n",
    "train_data[\"content\"] = train_data[\"content\"].progress_apply(clean_html)\n",
    "train_data[\"content\"] = train_data[\"content\"].progress_apply(spacy_tokenizer)\n",
    "train_data[\"title\"] = train_data[\"title\"].progress_apply(spacy_tokenizer)\n",
    "train_data.head()"
   ]
  },
  {
   "cell_type": "markdown",
   "metadata": {
    "_uuid": "4e2a9059465b95946110d5a081e53061baf93b10"
   },
   "source": [
    "**I will be using a frequency based approach to improve the accuracy of title+content data. Both title and content have been chosen to build a more robust and believeable model.**\n",
    "\n",
    "**We will use the function below to find out the common words from title and content. These words will be used as tags and will be submitted as the submission.**"
   ]
  },
  {
   "cell_type": "code",
   "execution_count": 9,
   "metadata": {
    "_uuid": "186b6f386f068905152c2665f638b5eb72d10381",
    "collapsed": true
   },
   "outputs": [],
   "source": [
    "# Function to find out common words to be used as tags \n",
    "def top_word_finder(title,content):\n",
    "    title = title.split()\n",
    "    content = content.split()\n",
    "    top = set(title)&set(content)\n",
    "    top = sorted(top, key = lambda k : title.index(k))\n",
    "    return ' '.join(top)"
   ]
  },
  {
   "cell_type": "code",
   "execution_count": 10,
   "metadata": {
    "_uuid": "a839745ddc8cee387ac794f7b044e7780c2526a2"
   },
   "outputs": [
    {
     "name": "stderr",
     "output_type": "stream",
     "text": [
      "100%|██████████| 87000/87000 [00:03<00:00, 23720.62it/s]\n"
     ]
    }
   ],
   "source": [
    "train_data[\"similar_words\"] = train_data.progress_apply(lambda row: top_word_finder(row['title'], row['content']), axis=1)"
   ]
  },
  {
   "cell_type": "markdown",
   "metadata": {
    "_uuid": "e6e4b79848b2f10e52e9a7671d0455a9e05fb149"
   },
   "source": [
    "**After applying the function, we can see that the newly generated 'similar_tags' and 'tags' have many similar tags. Now, this approaach is used for physics questions too.**"
   ]
  },
  {
   "cell_type": "code",
   "execution_count": 11,
   "metadata": {
    "_uuid": "9250096ecce1ad935bc0ef9492c2cb6f26a98ea1"
   },
   "outputs": [
    {
     "data": {
      "text/html": [
       "<div>\n",
       "<style>\n",
       "    .dataframe thead tr:only-child th {\n",
       "        text-align: right;\n",
       "    }\n",
       "\n",
       "    .dataframe thead th {\n",
       "        text-align: left;\n",
       "    }\n",
       "\n",
       "    .dataframe tbody tr th {\n",
       "        vertical-align: top;\n",
       "    }\n",
       "</style>\n",
       "<table border=\"1\" class=\"dataframe\">\n",
       "  <thead>\n",
       "    <tr style=\"text-align: right;\">\n",
       "      <th></th>\n",
       "      <th>title</th>\n",
       "      <th>content</th>\n",
       "      <th>tags</th>\n",
       "      <th>similar_words</th>\n",
       "    </tr>\n",
       "  </thead>\n",
       "  <tbody>\n",
       "    <tr>\n",
       "      <th>86990</th>\n",
       "      <td>concrete subfloor 2x4</td>\n",
       "      <td>need new concrete subfloor water damage 2x4s o...</td>\n",
       "      <td>concrete subfloor hardwood</td>\n",
       "      <td>concrete subfloor</td>\n",
       "    </tr>\n",
       "    <tr>\n",
       "      <th>86991</th>\n",
       "      <td>single 12 2 nm cable hole size drill</td>\n",
       "      <td>know code specify maximum hole size base frame...</td>\n",
       "      <td>electrical wiring</td>\n",
       "      <td>single 12 2 nm cable hole size</td>\n",
       "    </tr>\n",
       "    <tr>\n",
       "      <th>86992</th>\n",
       "      <td>c wire missing trane air handler variable 4tee3f</td>\n",
       "      <td>tell wire contact use c wire</td>\n",
       "      <td>electrical</td>\n",
       "      <td>c wire</td>\n",
       "    </tr>\n",
       "    <tr>\n",
       "      <th>86993</th>\n",
       "      <td>plug socket turn replace</td>\n",
       "      <td>problem plug socket socket turn replace screwf...</td>\n",
       "      <td>electrical wiring socket</td>\n",
       "      <td>plug socket turn replace</td>\n",
       "    </tr>\n",
       "    <tr>\n",
       "      <th>86994</th>\n",
       "      <td>safe wire light junction box plug plug switch ...</td>\n",
       "      <td>edit rephrase question original unsafe install...</td>\n",
       "      <td>electrical wiring lighting light-fixture safety</td>\n",
       "      <td>safe wire light junction box plug switch contr...</td>\n",
       "    </tr>\n",
       "    <tr>\n",
       "      <th>86995</th>\n",
       "      <td>prevent stand water collect base foundation</td>\n",
       "      <td>major problem rainfall water collect base home...</td>\n",
       "      <td>water foundation grading</td>\n",
       "      <td>water collect base foundation</td>\n",
       "    </tr>\n",
       "    <tr>\n",
       "      <th>86996</th>\n",
       "      <td>selectable thermostat</td>\n",
       "      <td>like add 2 remote thermostat exit hvac system ...</td>\n",
       "      <td>thermostat</td>\n",
       "      <td>thermostat</td>\n",
       "    </tr>\n",
       "    <tr>\n",
       "      <th>86997</th>\n",
       "      <td>measure power draw inverter</td>\n",
       "      <td>output power calculation measure ac current cl...</td>\n",
       "      <td>electrical</td>\n",
       "      <td>measure power</td>\n",
       "    </tr>\n",
       "    <tr>\n",
       "      <th>86998</th>\n",
       "      <td>old oil force air heat system r w wire add c p...</td>\n",
       "      <td>system 60 era furnace t connector r w thermost...</td>\n",
       "      <td>thermostat-c-wire</td>\n",
       "      <td>system r w wire c use</td>\n",
       "    </tr>\n",
       "    <tr>\n",
       "      <th>86999</th>\n",
       "      <td>light stay switch</td>\n",
       "      <td>problem come home morning find light switch tu...</td>\n",
       "      <td>electrical lighting</td>\n",
       "      <td>light stay switch</td>\n",
       "    </tr>\n",
       "  </tbody>\n",
       "</table>\n",
       "</div>"
      ],
      "text/plain": [
       "                                                   title  \\\n",
       "86990                              concrete subfloor 2x4   \n",
       "86991               single 12 2 nm cable hole size drill   \n",
       "86992   c wire missing trane air handler variable 4tee3f   \n",
       "86993                           plug socket turn replace   \n",
       "86994  safe wire light junction box plug plug switch ...   \n",
       "86995        prevent stand water collect base foundation   \n",
       "86996                              selectable thermostat   \n",
       "86997                        measure power draw inverter   \n",
       "86998  old oil force air heat system r w wire add c p...   \n",
       "86999                                  light stay switch   \n",
       "\n",
       "                                                 content  \\\n",
       "86990  need new concrete subfloor water damage 2x4s o...   \n",
       "86991  know code specify maximum hole size base frame...   \n",
       "86992                       tell wire contact use c wire   \n",
       "86993  problem plug socket socket turn replace screwf...   \n",
       "86994  edit rephrase question original unsafe install...   \n",
       "86995  major problem rainfall water collect base home...   \n",
       "86996  like add 2 remote thermostat exit hvac system ...   \n",
       "86997  output power calculation measure ac current cl...   \n",
       "86998  system 60 era furnace t connector r w thermost...   \n",
       "86999  problem come home morning find light switch tu...   \n",
       "\n",
       "                                                  tags  \\\n",
       "86990                       concrete subfloor hardwood   \n",
       "86991                                electrical wiring   \n",
       "86992                                       electrical   \n",
       "86993                         electrical wiring socket   \n",
       "86994  electrical wiring lighting light-fixture safety   \n",
       "86995                         water foundation grading   \n",
       "86996                                       thermostat   \n",
       "86997                                       electrical   \n",
       "86998                                thermostat-c-wire   \n",
       "86999                              electrical lighting   \n",
       "\n",
       "                                           similar_words  \n",
       "86990                                  concrete subfloor  \n",
       "86991                     single 12 2 nm cable hole size  \n",
       "86992                                             c wire  \n",
       "86993                           plug socket turn replace  \n",
       "86994  safe wire light junction box plug switch contr...  \n",
       "86995                      water collect base foundation  \n",
       "86996                                         thermostat  \n",
       "86997                                      measure power  \n",
       "86998                              system r w wire c use  \n",
       "86999                                  light stay switch  "
      ]
     },
     "execution_count": 11,
     "metadata": {},
     "output_type": "execute_result"
    }
   ],
   "source": [
    "train_data.tail(10)"
   ]
  },
  {
   "cell_type": "code",
   "execution_count": 13,
   "metadata": {
    "_uuid": "a4285e50f5a3a697e27e9e8a725599765bfd2645"
   },
   "outputs": [
    {
     "data": {
      "text/html": [
       "<div>\n",
       "<style>\n",
       "    .dataframe thead tr:only-child th {\n",
       "        text-align: right;\n",
       "    }\n",
       "\n",
       "    .dataframe thead th {\n",
       "        text-align: left;\n",
       "    }\n",
       "\n",
       "    .dataframe tbody tr th {\n",
       "        vertical-align: top;\n",
       "    }\n",
       "</style>\n",
       "<table border=\"1\" class=\"dataframe\">\n",
       "  <thead>\n",
       "    <tr style=\"text-align: right;\">\n",
       "      <th></th>\n",
       "      <th>id</th>\n",
       "      <th>title</th>\n",
       "      <th>content</th>\n",
       "    </tr>\n",
       "  </thead>\n",
       "  <tbody>\n",
       "    <tr>\n",
       "      <th>0</th>\n",
       "      <td>1</td>\n",
       "      <td>What is spin as it relates to subatomic partic...</td>\n",
       "      <td>&lt;p&gt;I often hear about subatomic particles havi...</td>\n",
       "    </tr>\n",
       "    <tr>\n",
       "      <th>1</th>\n",
       "      <td>2</td>\n",
       "      <td>What is your simplest explanation of the strin...</td>\n",
       "      <td>&lt;p&gt;How would you explain string theory to non ...</td>\n",
       "    </tr>\n",
       "    <tr>\n",
       "      <th>2</th>\n",
       "      <td>3</td>\n",
       "      <td>Lie theory, Representations and particle physics</td>\n",
       "      <td>&lt;p&gt;This is a question that has been posted at ...</td>\n",
       "    </tr>\n",
       "    <tr>\n",
       "      <th>3</th>\n",
       "      <td>7</td>\n",
       "      <td>Will Determinism be ever possible?</td>\n",
       "      <td>&lt;p&gt;What are the main problems that we need to ...</td>\n",
       "    </tr>\n",
       "    <tr>\n",
       "      <th>4</th>\n",
       "      <td>9</td>\n",
       "      <td>Hamilton's Principle</td>\n",
       "      <td>&lt;p&gt;Hamilton's principle states that a dynamic ...</td>\n",
       "    </tr>\n",
       "  </tbody>\n",
       "</table>\n",
       "</div>"
      ],
      "text/plain": [
       "   id                                              title  \\\n",
       "0   1  What is spin as it relates to subatomic partic...   \n",
       "1   2  What is your simplest explanation of the strin...   \n",
       "2   3   Lie theory, Representations and particle physics   \n",
       "3   7                 Will Determinism be ever possible?   \n",
       "4   9                               Hamilton's Principle   \n",
       "\n",
       "                                             content  \n",
       "0  <p>I often hear about subatomic particles havi...  \n",
       "1  <p>How would you explain string theory to non ...  \n",
       "2  <p>This is a question that has been posted at ...  \n",
       "3  <p>What are the main problems that we need to ...  \n",
       "4  <p>Hamilton's principle states that a dynamic ...  "
      ]
     },
     "execution_count": 13,
     "metadata": {},
     "output_type": "execute_result"
    }
   ],
   "source": [
    "test_data = pd.read_csv('test.csv')\n",
    "test_data.head()"
   ]
  },
  {
   "cell_type": "code",
   "execution_count": 14,
   "metadata": {
    "_uuid": "392d7d8e74850c08b5be488c7f3e97c9ae2eb207"
   },
   "outputs": [
    {
     "name": "stderr",
     "output_type": "stream",
     "text": [
      "100%|██████████| 81926/81926 [00:00<00:00, 102810.08it/s]\n",
      "100%|██████████| 81926/81926 [10:29<00:00, 130.18it/s]\n",
      "100%|██████████| 81926/81926 [00:42<00:00, 1931.35it/s]\n",
      "100%|██████████| 81926/81926 [00:00<00:00, 185837.25it/s]\n",
      "100%|██████████| 81926/81926 [00:00<00:00, 646779.96it/s]\n",
      "100%|██████████| 81926/81926 [00:03<00:00, 21960.24it/s]\n"
     ]
    },
    {
     "data": {
      "text/html": [
       "<div>\n",
       "<style>\n",
       "    .dataframe thead tr:only-child th {\n",
       "        text-align: right;\n",
       "    }\n",
       "\n",
       "    .dataframe thead th {\n",
       "        text-align: left;\n",
       "    }\n",
       "\n",
       "    .dataframe tbody tr th {\n",
       "        vertical-align: top;\n",
       "    }\n",
       "</style>\n",
       "<table border=\"1\" class=\"dataframe\">\n",
       "  <thead>\n",
       "    <tr style=\"text-align: right;\">\n",
       "      <th></th>\n",
       "      <th>id</th>\n",
       "      <th>title</th>\n",
       "      <th>content</th>\n",
       "      <th>similar_words</th>\n",
       "    </tr>\n",
       "  </thead>\n",
       "  <tbody>\n",
       "    <tr>\n",
       "      <th>0</th>\n",
       "      <td>1</td>\n",
       "      <td>spin relate subatomic particle</td>\n",
       "      <td>hear subatomic particle property spin actually...</td>\n",
       "      <td>spin relate subatomic particle</td>\n",
       "    </tr>\n",
       "    <tr>\n",
       "      <th>1</th>\n",
       "      <td>2</td>\n",
       "      <td>simple explanation string-theory</td>\n",
       "      <td>explain string-theory non physicist specially ...</td>\n",
       "      <td>string-theory</td>\n",
       "    </tr>\n",
       "    <tr>\n",
       "      <th>2</th>\n",
       "      <td>3</td>\n",
       "      <td>lie-theory representations particle physic</td>\n",
       "      <td>question post different forum think maybe conc...</td>\n",
       "      <td></td>\n",
       "    </tr>\n",
       "    <tr>\n",
       "      <th>3</th>\n",
       "      <td>7</td>\n",
       "      <td>determinism possible</td>\n",
       "      <td>main problem need solve prove laplace determin...</td>\n",
       "      <td>determinism</td>\n",
       "    </tr>\n",
       "    <tr>\n",
       "      <th>4</th>\n",
       "      <td>9</td>\n",
       "      <td>hamilton principle</td>\n",
       "      <td>hamilton principle state dynamic system follow...</td>\n",
       "      <td>hamilton principle</td>\n",
       "    </tr>\n",
       "  </tbody>\n",
       "</table>\n",
       "</div>"
      ],
      "text/plain": [
       "   id                                       title  \\\n",
       "0   1              spin relate subatomic particle   \n",
       "1   2            simple explanation string-theory   \n",
       "2   3  lie-theory representations particle physic   \n",
       "3   7                        determinism possible   \n",
       "4   9                          hamilton principle   \n",
       "\n",
       "                                             content  \\\n",
       "0  hear subatomic particle property spin actually...   \n",
       "1  explain string-theory non physicist specially ...   \n",
       "2  question post different forum think maybe conc...   \n",
       "3  main problem need solve prove laplace determin...   \n",
       "4  hamilton principle state dynamic system follow...   \n",
       "\n",
       "                    similar_words  \n",
       "0  spin relate subatomic particle  \n",
       "1                   string-theory  \n",
       "2                                  \n",
       "3                     determinism  \n",
       "4              hamilton principle  "
      ]
     },
     "execution_count": 14,
     "metadata": {},
     "output_type": "execute_result"
    }
   ],
   "source": [
    "test_data[\"content\"] = test_data[\"content\"].progress_apply(clean_html)\n",
    "test_data[\"content\"] = test_data[\"content\"].progress_apply(spacy_tokenizer)\n",
    "test_data[\"title\"] = test_data[\"title\"].progress_apply(spacy_tokenizer)\n",
    "test_data[\"content\"] = test_data[\"content\"].progress_apply(theory_checker)\n",
    "test_data[\"title\"] = test_data[\"title\"].progress_apply(theory_checker)\n",
    "test_data[\"similar_words\"] = test_data.progress_apply(lambda row: top_word_finder(row['title'], row['content']), axis=1)\n",
    "test_data.head()"
   ]
  },
  {
   "cell_type": "code",
   "execution_count": 16,
   "metadata": {
    "_uuid": "940a1a82f017fa30a355bce8b7cf1f5c6c4fb046"
   },
   "outputs": [],
   "source": [
    "submission = pd.read_csv('sample_submission.csv')\n",
    "submission[\"tags\"] = test_data[\"similar_words\"]\n",
    "submission.to_csv('submission.csv')"
   ]
  },
  {
   "cell_type": "markdown",
   "metadata": {
    "_uuid": "7a28e91638f22e6486686025d731e5f2d203b8e0"
   },
   "source": [
    "**This is the submission file. Newly generated tags can be seen. These tags are meaningful and impart a good amount of information about the posts/questions.**"
   ]
  },
  {
   "cell_type": "code",
   "execution_count": 17,
   "metadata": {
    "_uuid": "1cb876ace6d2a3b89679504aaa966ec9fc6c1bcd"
   },
   "outputs": [
    {
     "data": {
      "text/html": [
       "<div>\n",
       "<style>\n",
       "    .dataframe thead tr:only-child th {\n",
       "        text-align: right;\n",
       "    }\n",
       "\n",
       "    .dataframe thead th {\n",
       "        text-align: left;\n",
       "    }\n",
       "\n",
       "    .dataframe tbody tr th {\n",
       "        vertical-align: top;\n",
       "    }\n",
       "</style>\n",
       "<table border=\"1\" class=\"dataframe\">\n",
       "  <thead>\n",
       "    <tr style=\"text-align: right;\">\n",
       "      <th></th>\n",
       "      <th>id</th>\n",
       "      <th>tags</th>\n",
       "    </tr>\n",
       "  </thead>\n",
       "  <tbody>\n",
       "    <tr>\n",
       "      <th>0</th>\n",
       "      <td>1</td>\n",
       "      <td>spin relate subatomic particle</td>\n",
       "    </tr>\n",
       "    <tr>\n",
       "      <th>1</th>\n",
       "      <td>2</td>\n",
       "      <td>string-theory</td>\n",
       "    </tr>\n",
       "    <tr>\n",
       "      <th>2</th>\n",
       "      <td>3</td>\n",
       "      <td></td>\n",
       "    </tr>\n",
       "    <tr>\n",
       "      <th>3</th>\n",
       "      <td>7</td>\n",
       "      <td>determinism</td>\n",
       "    </tr>\n",
       "    <tr>\n",
       "      <th>4</th>\n",
       "      <td>9</td>\n",
       "      <td>hamilton principle</td>\n",
       "    </tr>\n",
       "  </tbody>\n",
       "</table>\n",
       "</div>"
      ],
      "text/plain": [
       "   id                            tags\n",
       "0   1  spin relate subatomic particle\n",
       "1   2                   string-theory\n",
       "2   3                                \n",
       "3   7                     determinism\n",
       "4   9              hamilton principle"
      ]
     },
     "execution_count": 17,
     "metadata": {},
     "output_type": "execute_result"
    }
   ],
   "source": [
    "submission.head()"
   ]
  },
  {
   "cell_type": "markdown",
   "metadata": {
    "_uuid": "a2bc52f960703b9eb87f77c5fb21bbd67d17ff0a"
   },
   "source": [
    "**This submission scored 0.07499 on kaggle(where the competition was hosted) which is better than 0.05719 as shown in the paper. This means that the frequency based approach performs better than traditional baseline models and CNNs.**\n",
    "<img src=\"capture.png\">\n",
    "**The final submission file is included with this notebook: kaggle_submission.csv**"
   ]
  },
  {
   "cell_type": "code",
   "execution_count": 19,
   "metadata": {},
   "outputs": [
    {
     "data": {
      "text/html": [
       "<div>\n",
       "<style>\n",
       "    .dataframe thead tr:only-child th {\n",
       "        text-align: right;\n",
       "    }\n",
       "\n",
       "    .dataframe thead th {\n",
       "        text-align: left;\n",
       "    }\n",
       "\n",
       "    .dataframe tbody tr th {\n",
       "        vertical-align: top;\n",
       "    }\n",
       "</style>\n",
       "<table border=\"1\" class=\"dataframe\">\n",
       "  <thead>\n",
       "    <tr style=\"text-align: right;\">\n",
       "      <th></th>\n",
       "      <th>id</th>\n",
       "      <th>tags</th>\n",
       "    </tr>\n",
       "  </thead>\n",
       "  <tbody>\n",
       "    <tr>\n",
       "      <th>81921</th>\n",
       "      <td>278119</td>\n",
       "      <td>projectile</td>\n",
       "    </tr>\n",
       "    <tr>\n",
       "      <th>81922</th>\n",
       "      <td>278120</td>\n",
       "      <td>lift coanda effect</td>\n",
       "    </tr>\n",
       "    <tr>\n",
       "      <th>81923</th>\n",
       "      <td>278121</td>\n",
       "      <td>asymmetric</td>\n",
       "    </tr>\n",
       "    <tr>\n",
       "      <th>81924</th>\n",
       "      <td>278124</td>\n",
       "      <td>drop impact liquid</td>\n",
       "    </tr>\n",
       "    <tr>\n",
       "      <th>81925</th>\n",
       "      <td>278126</td>\n",
       "      <td>gravity manipulation</td>\n",
       "    </tr>\n",
       "  </tbody>\n",
       "</table>\n",
       "</div>"
      ],
      "text/plain": [
       "           id                  tags\n",
       "81921  278119            projectile\n",
       "81922  278120    lift coanda effect\n",
       "81923  278121            asymmetric\n",
       "81924  278124    drop impact liquid\n",
       "81925  278126  gravity manipulation"
      ]
     },
     "execution_count": 19,
     "metadata": {},
     "output_type": "execute_result"
    }
   ],
   "source": [
    "pd.read_csv('kaggle_submission.csv').tail()"
   ]
  },
  {
   "cell_type": "code",
   "execution_count": null,
   "metadata": {
    "collapsed": true
   },
   "outputs": [],
   "source": []
  }
 ],
 "metadata": {
  "kernelspec": {
   "display_name": "Python 3",
   "language": "python",
   "name": "python3"
  },
  "language_info": {
   "codemirror_mode": {
    "name": "ipython",
    "version": 3
   },
   "file_extension": ".py",
   "mimetype": "text/x-python",
   "name": "python",
   "nbconvert_exporter": "python",
   "pygments_lexer": "ipython3",
   "version": "3.6.6"
  }
 },
 "nbformat": 4,
 "nbformat_minor": 1
}
